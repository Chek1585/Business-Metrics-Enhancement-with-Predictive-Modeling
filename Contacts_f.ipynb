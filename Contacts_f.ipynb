{
 "cells": [
  {
   "cell_type": "code",
   "execution_count": 2,
   "id": "ef3bf6ba-eba5-4cf8-a932-face7b44016a",
   "metadata": {},
   "outputs": [],
   "source": [
    "import pandas as pd"
   ]
  },
  {
   "cell_type": "code",
   "execution_count": 3,
   "id": "a3343d91-567d-49ad-bbac-fd00023d7168",
   "metadata": {},
   "outputs": [
    {
     "data": {
      "text/html": [
       "<div>\n",
       "<style scoped>\n",
       "    .dataframe tbody tr th:only-of-type {\n",
       "        vertical-align: middle;\n",
       "    }\n",
       "\n",
       "    .dataframe tbody tr th {\n",
       "        vertical-align: top;\n",
       "    }\n",
       "\n",
       "    .dataframe thead th {\n",
       "        text-align: right;\n",
       "    }\n",
       "</style>\n",
       "<table border=\"1\" class=\"dataframe\">\n",
       "  <thead>\n",
       "    <tr style=\"text-align: right;\">\n",
       "      <th></th>\n",
       "      <th>Id</th>\n",
       "      <th>Contact Owner Name</th>\n",
       "      <th>Created Time</th>\n",
       "      <th>Modified Time</th>\n",
       "    </tr>\n",
       "  </thead>\n",
       "  <tbody>\n",
       "    <tr>\n",
       "      <th>0</th>\n",
       "      <td>5805028000000645014</td>\n",
       "      <td>Rachel White</td>\n",
       "      <td>27.06.2023 11:28</td>\n",
       "      <td>22.12.2023 13:34</td>\n",
       "    </tr>\n",
       "    <tr>\n",
       "      <th>1</th>\n",
       "      <td>5805028000000872003</td>\n",
       "      <td>Charlie Davis</td>\n",
       "      <td>03.07.2023 11:31</td>\n",
       "      <td>21.05.2024 10:23</td>\n",
       "    </tr>\n",
       "    <tr>\n",
       "      <th>2</th>\n",
       "      <td>5805028000000889001</td>\n",
       "      <td>Bob Brown</td>\n",
       "      <td>02.07.2023 22:37</td>\n",
       "      <td>21.12.2023 13:17</td>\n",
       "    </tr>\n",
       "    <tr>\n",
       "      <th>3</th>\n",
       "      <td>5805028000000907006</td>\n",
       "      <td>Bob Brown</td>\n",
       "      <td>03.07.2023 05:44</td>\n",
       "      <td>29.12.2023 15:20</td>\n",
       "    </tr>\n",
       "    <tr>\n",
       "      <th>4</th>\n",
       "      <td>5805028000000939010</td>\n",
       "      <td>Nina Scott</td>\n",
       "      <td>04.07.2023 10:11</td>\n",
       "      <td>16.04.2024 16:14</td>\n",
       "    </tr>\n",
       "  </tbody>\n",
       "</table>\n",
       "</div>"
      ],
      "text/plain": [
       "                    Id Contact Owner Name      Created Time     Modified Time\n",
       "0  5805028000000645014       Rachel White  27.06.2023 11:28  22.12.2023 13:34\n",
       "1  5805028000000872003      Charlie Davis  03.07.2023 11:31  21.05.2024 10:23\n",
       "2  5805028000000889001          Bob Brown  02.07.2023 22:37  21.12.2023 13:17\n",
       "3  5805028000000907006          Bob Brown  03.07.2023 05:44  29.12.2023 15:20\n",
       "4  5805028000000939010         Nina Scott  04.07.2023 10:11  16.04.2024 16:14"
      ]
     },
     "execution_count": 3,
     "metadata": {},
     "output_type": "execute_result"
    }
   ],
   "source": [
    "df = pd.read_csv('Contacts.csv')\n",
    "\n",
    "df.head()"
   ]
  },
  {
   "cell_type": "code",
   "execution_count": 4,
   "id": "380a84f1-1531-43f9-b2cb-eb72fe0480ad",
   "metadata": {},
   "outputs": [],
   "source": [
    "df['Id'] = df['Id'].astype(str)"
   ]
  },
  {
   "cell_type": "code",
   "execution_count": 5,
   "id": "9479c804-7686-4ba8-a771-443a567f64d4",
   "metadata": {},
   "outputs": [
    {
     "data": {
      "text/html": [
       "<div>\n",
       "<style scoped>\n",
       "    .dataframe tbody tr th:only-of-type {\n",
       "        vertical-align: middle;\n",
       "    }\n",
       "\n",
       "    .dataframe tbody tr th {\n",
       "        vertical-align: top;\n",
       "    }\n",
       "\n",
       "    .dataframe thead th {\n",
       "        text-align: right;\n",
       "    }\n",
       "</style>\n",
       "<table border=\"1\" class=\"dataframe\">\n",
       "  <thead>\n",
       "    <tr style=\"text-align: right;\">\n",
       "      <th></th>\n",
       "      <th>Id</th>\n",
       "      <th>Contact Owner Name</th>\n",
       "      <th>Created Time</th>\n",
       "      <th>Modified Time</th>\n",
       "    </tr>\n",
       "  </thead>\n",
       "  <tbody>\n",
       "    <tr>\n",
       "      <th>count</th>\n",
       "      <td>18548</td>\n",
       "      <td>18548</td>\n",
       "      <td>18548</td>\n",
       "      <td>18548</td>\n",
       "    </tr>\n",
       "    <tr>\n",
       "      <th>unique</th>\n",
       "      <td>18548</td>\n",
       "      <td>28</td>\n",
       "      <td>17921</td>\n",
       "      <td>16580</td>\n",
       "    </tr>\n",
       "    <tr>\n",
       "      <th>top</th>\n",
       "      <td>5805028000000645014</td>\n",
       "      <td>Charlie Davis</td>\n",
       "      <td>10.06.2024 09:00</td>\n",
       "      <td>13.06.2024 17:08</td>\n",
       "    </tr>\n",
       "    <tr>\n",
       "      <th>freq</th>\n",
       "      <td>1</td>\n",
       "      <td>2018</td>\n",
       "      <td>13</td>\n",
       "      <td>25</td>\n",
       "    </tr>\n",
       "  </tbody>\n",
       "</table>\n",
       "</div>"
      ],
      "text/plain": [
       "                         Id Contact Owner Name      Created Time  \\\n",
       "count                 18548              18548             18548   \n",
       "unique                18548                 28             17921   \n",
       "top     5805028000000645014      Charlie Davis  10.06.2024 09:00   \n",
       "freq                      1               2018                13   \n",
       "\n",
       "           Modified Time  \n",
       "count              18548  \n",
       "unique             16580  \n",
       "top     13.06.2024 17:08  \n",
       "freq                  25  "
      ]
     },
     "execution_count": 5,
     "metadata": {},
     "output_type": "execute_result"
    }
   ],
   "source": [
    "df.describe()"
   ]
  },
  {
   "cell_type": "code",
   "execution_count": 6,
   "id": "bb42fb62-c1e2-4440-9aba-aba53100e696",
   "metadata": {},
   "outputs": [],
   "source": [
    "df['Created Time'] = pd.to_datetime(df['Created Time'], dayfirst=True)\n",
    " "
   ]
  },
  {
   "cell_type": "code",
   "execution_count": 7,
   "id": "ca7562d2-5395-4bcd-9fd4-d358f44522cc",
   "metadata": {},
   "outputs": [
    {
     "name": "stdout",
     "output_type": "stream",
     "text": [
      "<class 'pandas.core.frame.DataFrame'>\n",
      "RangeIndex: 18548 entries, 0 to 18547\n",
      "Data columns (total 4 columns):\n",
      " #   Column              Non-Null Count  Dtype         \n",
      "---  ------              --------------  -----         \n",
      " 0   Id                  18548 non-null  object        \n",
      " 1   Contact Owner Name  18548 non-null  object        \n",
      " 2   Created Time        18548 non-null  datetime64[ns]\n",
      " 3   Modified Time       18548 non-null  object        \n",
      "dtypes: datetime64[ns](1), object(3)\n",
      "memory usage: 579.8+ KB\n"
     ]
    }
   ],
   "source": [
    "df.info()"
   ]
  },
  {
   "cell_type": "code",
   "execution_count": 8,
   "id": "21f57462-3e76-411b-a657-0e86a0f4d302",
   "metadata": {},
   "outputs": [
    {
     "data": {
      "text/html": [
       "<div>\n",
       "<style scoped>\n",
       "    .dataframe tbody tr th:only-of-type {\n",
       "        vertical-align: middle;\n",
       "    }\n",
       "\n",
       "    .dataframe tbody tr th {\n",
       "        vertical-align: top;\n",
       "    }\n",
       "\n",
       "    .dataframe thead th {\n",
       "        text-align: right;\n",
       "    }\n",
       "</style>\n",
       "<table border=\"1\" class=\"dataframe\">\n",
       "  <thead>\n",
       "    <tr style=\"text-align: right;\">\n",
       "      <th></th>\n",
       "      <th>Created Time</th>\n",
       "    </tr>\n",
       "  </thead>\n",
       "  <tbody>\n",
       "    <tr>\n",
       "      <th>count</th>\n",
       "      <td>18548</td>\n",
       "    </tr>\n",
       "    <tr>\n",
       "      <th>mean</th>\n",
       "      <td>2024-01-24 14:00:21.679965696</td>\n",
       "    </tr>\n",
       "    <tr>\n",
       "      <th>min</th>\n",
       "      <td>2023-06-27 11:28:00</td>\n",
       "    </tr>\n",
       "    <tr>\n",
       "      <th>25%</th>\n",
       "      <td>2023-11-15 16:40:45</td>\n",
       "    </tr>\n",
       "    <tr>\n",
       "      <th>50%</th>\n",
       "      <td>2024-02-01 18:30:00</td>\n",
       "    </tr>\n",
       "    <tr>\n",
       "      <th>75%</th>\n",
       "      <td>2024-04-12 16:37:15</td>\n",
       "    </tr>\n",
       "    <tr>\n",
       "      <th>max</th>\n",
       "      <td>2024-06-21 15:30:00</td>\n",
       "    </tr>\n",
       "  </tbody>\n",
       "</table>\n",
       "</div>"
      ],
      "text/plain": [
       "                        Created Time\n",
       "count                          18548\n",
       "mean   2024-01-24 14:00:21.679965696\n",
       "min              2023-06-27 11:28:00\n",
       "25%              2023-11-15 16:40:45\n",
       "50%              2024-02-01 18:30:00\n",
       "75%              2024-04-12 16:37:15\n",
       "max              2024-06-21 15:30:00"
      ]
     },
     "execution_count": 8,
     "metadata": {},
     "output_type": "execute_result"
    }
   ],
   "source": [
    "df.describe()"
   ]
  },
  {
   "cell_type": "code",
   "execution_count": 9,
   "id": "6990d519-40e0-4a3a-9ce2-669d0ff9f707",
   "metadata": {},
   "outputs": [
    {
     "data": {
      "text/plain": [
       "0        False\n",
       "1        False\n",
       "2        False\n",
       "3        False\n",
       "4        False\n",
       "         ...  \n",
       "18543    False\n",
       "18544    False\n",
       "18545    False\n",
       "18546    False\n",
       "18547    False\n",
       "Length: 18548, dtype: bool"
      ]
     },
     "execution_count": 9,
     "metadata": {},
     "output_type": "execute_result"
    }
   ],
   "source": [
    "df.duplicated(subset=['Id', 'Contact Owner Name', 'Created Time', 'Modified Time'], keep=False)"
   ]
  },
  {
   "cell_type": "code",
   "execution_count": 10,
   "id": "fc92fb06-be4c-48bf-b0c0-31ab429e1f11",
   "metadata": {},
   "outputs": [
    {
     "data": {
      "text/html": [
       "<div>\n",
       "<style scoped>\n",
       "    .dataframe tbody tr th:only-of-type {\n",
       "        vertical-align: middle;\n",
       "    }\n",
       "\n",
       "    .dataframe tbody tr th {\n",
       "        vertical-align: top;\n",
       "    }\n",
       "\n",
       "    .dataframe thead th {\n",
       "        text-align: right;\n",
       "    }\n",
       "</style>\n",
       "<table border=\"1\" class=\"dataframe\">\n",
       "  <thead>\n",
       "    <tr style=\"text-align: right;\">\n",
       "      <th></th>\n",
       "      <th>Id</th>\n",
       "      <th>Contact Owner Name</th>\n",
       "      <th>Created Time</th>\n",
       "      <th>Modified Time</th>\n",
       "    </tr>\n",
       "  </thead>\n",
       "  <tbody>\n",
       "  </tbody>\n",
       "</table>\n",
       "</div>"
      ],
      "text/plain": [
       "Empty DataFrame\n",
       "Columns: [Id, Contact Owner Name, Created Time, Modified Time]\n",
       "Index: []"
      ]
     },
     "execution_count": 10,
     "metadata": {},
     "output_type": "execute_result"
    }
   ],
   "source": [
    "df.loc[df.duplicated(subset=['Id', 'Contact Owner Name', 'Created Time', 'Modified Time'], keep=False)]"
   ]
  },
  {
   "cell_type": "code",
   "execution_count": 14,
   "id": "c4f579ee-567a-4180-afd2-e0b266e530bc",
   "metadata": {},
   "outputs": [],
   "source": [
    "df.to_pickle('Contacts.pkl')"
   ]
  },
  {
   "cell_type": "code",
   "execution_count": 16,
   "id": "cec6ff66-6215-4d6f-9fc2-692f59357efc",
   "metadata": {},
   "outputs": [
    {
     "name": "stdout",
     "output_type": "stream",
     "text": [
      "\n",
      "Id                    0.0%\n",
      "Contact Owner Name    0.0%\n",
      "Created Time          0.0%\n",
      "Modified Time         0.0%\n"
     ]
    }
   ],
   "source": [
    "percent_missing = (df.isnull().sum() / df.shape[0] * 100).round(2)\n",
    "percent_missing_with_sign = percent_missing.apply(lambda x: f\"{x}%\")\n",
    "output = f\"\\n{percent_missing_with_sign.to_string()}\"\n",
    "print(output)"
   ]
  },
  {
   "cell_type": "code",
   "execution_count": 15,
   "id": "9449d9de-1243-4c42-bd6a-4658494de9e1",
   "metadata": {},
   "outputs": [
    {
     "name": "stdout",
     "output_type": "stream",
     "text": [
      "<class 'pandas.core.frame.DataFrame'>\n",
      "RangeIndex: 18548 entries, 0 to 18547\n",
      "Data columns (total 4 columns):\n",
      " #   Column              Non-Null Count  Dtype         \n",
      "---  ------              --------------  -----         \n",
      " 0   Id                  18548 non-null  object        \n",
      " 1   Contact Owner Name  18548 non-null  object        \n",
      " 2   Created Time        18548 non-null  datetime64[ns]\n",
      " 3   Modified Time       18548 non-null  object        \n",
      "dtypes: datetime64[ns](1), object(3)\n",
      "memory usage: 579.8+ KB\n"
     ]
    }
   ],
   "source": [
    "df_new = pd.read_pickle('Contacts.pkl')\n",
    "df_new.info()"
   ]
  }
 ],
 "metadata": {
  "kernelspec": {
   "display_name": "Python 3 (ipykernel)",
   "language": "python",
   "name": "python3"
  },
  "language_info": {
   "codemirror_mode": {
    "name": "ipython",
    "version": 3
   },
   "file_extension": ".py",
   "mimetype": "text/x-python",
   "name": "python",
   "nbconvert_exporter": "python",
   "pygments_lexer": "ipython3",
   "version": "3.11.7"
  }
 },
 "nbformat": 4,
 "nbformat_minor": 5
}
